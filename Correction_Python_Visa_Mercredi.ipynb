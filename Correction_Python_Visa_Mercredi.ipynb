{
  "nbformat": 4,
  "nbformat_minor": 0,
  "metadata": {
    "colab": {
      "name": "Correction_Python_Visa_Mercredi.ipynb",
      "provenance": [],
      "include_colab_link": true
    },
    "kernelspec": {
      "display_name": "Python 3",
      "language": "python",
      "name": "python3"
    },
    "language_info": {
      "codemirror_mode": {
        "name": "ipython",
        "version": 3
      },
      "file_extension": ".py",
      "mimetype": "text/x-python",
      "name": "python",
      "nbconvert_exporter": "python",
      "pygments_lexer": "ipython3",
      "version": "3.8.5"
    }
  },
  "cells": [
    {
      "cell_type": "markdown",
      "metadata": {
        "id": "view-in-github",
        "colab_type": "text"
      },
      "source": [
        "<a href=\"https://colab.research.google.com/github/jmc33/Python-3-Formation-complete/blob/master/Correction_Python_Visa_Mercredi.ipynb\" target=\"_parent\"><img src=\"https://colab.research.google.com/assets/colab-badge.svg\" alt=\"Open In Colab\"/></a>"
      ]
    },
    {
      "cell_type": "markdown",
      "metadata": {
        "id": "Poa39y4ImD2B"
      },
      "source": [
        "<center>\n",
        "<a href=\"https://exed.polytechnique.edu/fr\" ><img src=\"https://exed.polytechnique.edu/sites/all/themes/college/images/logo.png\" style=\"float:left; max-width: 360px; display: inline\" alt=\"INSA\"/></a> \n",
        "\n",
        "<a href=\"http://wikistat.fr/\" ><img src=\"http://www.math.univ-toulouse.fr/~besse/Wikistat/Images/wikistat.jpg\" style=\"float:right; max-width: 250px; display: inline\"  alt=\"Wikistat\"/></a>\n",
        "\n",
        "</center>"
      ]
    },
    {
      "cell_type": "markdown",
      "metadata": {
        "collapsed": true,
        "id": "gQUb7HHVmD2J"
      },
      "source": [
        "# [Scénarios d'Apprentissage Statistique](https://github.com/wikistat/Apprentissage)"
      ]
    },
    {
      "cell_type": "markdown",
      "metadata": {
        "id": "P2ETreGxmD2K"
      },
      "source": [
        "# GRC: Score d'appétence d'un produit bancaire  en <a href=\"https://www.python.org/\"><img src=\"https://upload.wikimedia.org/wikipedia/commons/thumb/f/f8/Python_logo_and_wordmark.svg/390px-Python_logo_and_wordmark.svg.png\" style=\"max-width: 120px; display: inline\" alt=\"Python\"/></a> avec <a href=\"http://scikit-learn.org/stable/#\"><img src=\"http://scikit-learn.org/stable/_static/scikit-learn-logo-small.png\" style=\"max-width: 100px; display: inline\" alt=\"Scikit-learn\"/></a>"
      ]
    },
    {
      "cell_type": "markdown",
      "metadata": {
        "id": "Xu65h2SbmD2K"
      },
      "source": [
        "#### Résumé\n",
        "Les données sont composées de 825 clients d'une banque décrits par 32 variables concernant leurs avoirs, et utilisations de leurs comptes. Après avoir réalisé, avec [R](https://github.com/wikistat/Exploration/blob/master/GRC-carte_Visa/Explo-R-Visa.ipynb) ou [Python](https://github.com/wikistat/Exploration/blob/master/GRC-carte_Visa/Explo-Python-Visa.ipynb), le premier objectif de segmentation ou profilage des types de comportement des clients, le 2ème consiste à estimer puis prévoir un *score d'appétence* pour un produit bancaie, ici la carte visa premier. Comparaison des différentes méthodes et algorihtmes d'apprentissage pour atteindre cet objectif de la régression logistique au *boosting* (*extrem gradient*) en passant par les arbres, les SVM ou random forest. Une procédure de validation croisée généralisée est itérée sur une selection de ces méthodes. Celles d'agrégation de modèles conduisent aux meilleurs résultats. \n",
        "\n",
        "## Introduction\n",
        "### Objectif\n",
        "Un  [calepin]((https://github.com/wikistat/Exploration/blob/master/GRC-carte_Visa/Explo-Python-Visa.ipynb), qu'il est préférable d'exécuter préalablement, décrit le premier objectif d'exploration puis segmentation ou profilage des types de comportement des clients d'une banque. \n",
        "\n",
        "Ce deuxième calepin propose de construire un [score d'appétence](http://www.math.univ-toulouse.fr/~besse/Wikistat/pdf/st-scenar-app-visa.pdf) pour la carte *Visa Premier*. Il s'agit d'un score d'appétence mais ce pourrait être le score d'attrition (*churn*) d'un opérateur téléphonique ou encore un score de défaillance d'un emprunteur ou de faillite d'une entreprise; les outils de modélisation sont les mêmes et sont très largement utilisés dans tout le secteur tertiaire pour l'aide à la décision.\n",
        "\n",
        "### Présentation des données\n",
        "#### Les variables\n",
        "La liste des variables est issue d'une base de données retraçant l'historique mensuel bancaire et les caractéristiques de tous les clients. Un sondage a été réalisé afin d'alléger les traitements ainsi qu'une première sélection de variables. Les variables contenues dans le fichier initial sont décrites dans le tableau ci-dessous. Elles sont observées sur 1425 clients.\n",
        "\n",
        "*Tableau: Liste des variables initiales et de leur libellé* Attention, certains sont écrits en majuscules dans les programmes puis en minuscules après transfomation des données (logarithme, recodage) au cours d ela phase d'exploration. Les noms des variables logarithmes des variables quantitatives se terminent par `L`les variables qualitatives se terminent par `Q`ou `q`. \n",
        "\n",
        "**Identifiant** | **Libellé**\n",
        "           --|--\n",
        "`sexeq` | Sexe (qualitatif) \n",
        "`ager` | Age en années\n",
        "`famiq` | Situation familiale: `Fmar Fcel Fdiv Fuli Fsep Fveu`\n",
        "`relat` | Ancienneté de relation en mois\n",
        "`pcspq` | Catégorie socio-professionnelle (code num)\n",
        "`opgnb` | Nombre d'opérations par guichet dans le mois\n",
        "`moyrv` | Moyenne des mouvements nets créditeurs des 3 mois en Kf\n",
        "`tavep` | Total des avoirs épargne monétaire en francs\n",
        "`endet` | Taux d'endettement\n",
        "`gaget` | Total des engagements en francs\n",
        "`gagec` | Total des engagements court terme en francs\n",
        "`gagem` | Total des engagements moyen terme en francs\n",
        "`kvunb` | Nombre de comptes à vue\n",
        "`qsmoy` | Moyenne des soldes moyens sur 3 mois\n",
        "`qcred` | Moyenne des mouvements créditeurs en Kf\n",
        "`dmvtp` | Age du dernier mouvement (en jours)\\hline\n",
        "`boppn` | Nombre d'opérations à M-1\n",
        "`facan` | Montant facturé dans l'année en francs\n",
        "`lgagt` | Engagement long terme\n",
        "`vienb` | Nombre de produits contrats vie\n",
        "`viemt` | Montant des produits contrats vie en francs\n",
        "`uemnb` | Nombre de produits épargne monétaire\n",
        "`xlgnb` | Nombre de produits d'épargne logement\n",
        "`xlgmt` | Montant des produits d'épargne logement en francs\n",
        "`ylvnb` | Nombre de comptes sur livret\n",
        "`ylvmt` | Montant des comptes sur livret en francs\n",
        "`rocnb` | Nombre de paiements par carte bancaire à M-1\n",
        "`nptag` | Nombre de cartes point argent\n",
        "`itavc` | Total des avoirs sur tous les comptes\n",
        "`havef` | Total des avoirs épargne financière en francs\n",
        "`jnbjd | Nombre de jours à débit à M\n",
        "**`carvp`** | **Possession de la carte VISA Premier**\n",
        "\n",
        "\n",
        "**Répondre aux questions en s'aidant des résultats des exécutions**"
      ]
    },
    {
      "cell_type": "markdown",
      "metadata": {
        "id": "KVSLCUeOmD2N"
      },
      "source": [
        "## Préparation des données\n",
        "### Lecture \n",
        "Les données sont disponibles dans le répertoire de ce calepin et chargées en même temps. Elles sont issues de la première phase de [prétraitement](https://github.com/wikistat/Exploration/blob/master/GRC-carte_Visa/Explo-R-Visa.ipynb) ou *data munging* pour détecter, corriger les erreurs et incohérences, éliminer des redondances, traiter les données manquantes, transformer certaines variables. "
      ]
    },
    {
      "cell_type": "code",
      "metadata": {
        "id": "GGaskjQUmD2P"
      },
      "source": [
        "# Importation des librairies.\n",
        "import numpy as np\n",
        "import pandas as pd\n",
        "import random as rd\n",
        "import matplotlib.pyplot as plt\n",
        "%matplotlib inline\n",
        "from sklearn.model_selection import train_test_split\n",
        "from sklearn.model_selection import GridSearchCV\n",
        " \n"
      ],
      "execution_count": 4,
      "outputs": []
    },
    {
      "cell_type": "code",
      "metadata": {
        "id": "Lz-lRqPpmD2S"
      },
      "source": [
        "# Lecture d'un data frame en ligne\n",
        "vispremv = pd.read_table('https://raw.githubusercontent.com/adieulev/DSO/master/vispremv.dat', delimiter=' ')\n",
        "#Donner la taille des données"
      ],
      "execution_count": 5,
      "outputs": []
    },
    {
      "cell_type": "code",
      "metadata": {
        "collapsed": true,
        "id": "3ERyS-DAmD2T"
      },
      "source": [
        "# Lecture d'un data frame si vous travaillez en local \n",
        "# Placer la table dans le bon dossier et décommenter la ligne suivante\n",
        "# vispremv = pd.read_table('vispremv.dat', delimiter=' ')"
      ],
      "execution_count": 6,
      "outputs": []
    },
    {
      "cell_type": "code",
      "metadata": {
        "colab": {
          "base_uri": "https://localhost:8080/",
          "height": 226
        },
        "id": "Xe0PHHQ8mD2T",
        "outputId": "a4bc171e-d268-4952-c158-0b03bd2fb459"
      },
      "source": [
        "vispremv.head()"
      ],
      "execution_count": 7,
      "outputs": [
        {
          "output_type": "execute_result",
          "data": {
            "text/html": [
              "<div>\n",
              "<style scoped>\n",
              "    .dataframe tbody tr th:only-of-type {\n",
              "        vertical-align: middle;\n",
              "    }\n",
              "\n",
              "    .dataframe tbody tr th {\n",
              "        vertical-align: top;\n",
              "    }\n",
              "\n",
              "    .dataframe thead th {\n",
              "        text-align: right;\n",
              "    }\n",
              "</style>\n",
              "<table border=\"1\" class=\"dataframe\">\n",
              "  <thead>\n",
              "    <tr style=\"text-align: right;\">\n",
              "      <th></th>\n",
              "      <th>SEXEQ</th>\n",
              "      <th>FAMIQ</th>\n",
              "      <th>PCSPQ</th>\n",
              "      <th>kvunbq</th>\n",
              "      <th>vienbq</th>\n",
              "      <th>uemnbq</th>\n",
              "      <th>xlgnbq</th>\n",
              "      <th>ylvnbq</th>\n",
              "      <th>rocnbq</th>\n",
              "      <th>nptagq</th>\n",
              "      <th>endetq</th>\n",
              "      <th>gagetq</th>\n",
              "      <th>facanq</th>\n",
              "      <th>lgagtq</th>\n",
              "      <th>havefq</th>\n",
              "      <th>jnbjdq</th>\n",
              "      <th>ageq</th>\n",
              "      <th>relatq</th>\n",
              "      <th>qsmoyq</th>\n",
              "      <th>opgnbq</th>\n",
              "      <th>moyrvq</th>\n",
              "      <th>tavepq</th>\n",
              "      <th>dmvtpq</th>\n",
              "      <th>boppnq</th>\n",
              "      <th>itavcq</th>\n",
              "      <th>RELAT</th>\n",
              "      <th>AGER</th>\n",
              "      <th>OPGNBL</th>\n",
              "      <th>MOYRVL</th>\n",
              "      <th>TAVEPL</th>\n",
              "      <th>ENDETL</th>\n",
              "      <th>GAGETL</th>\n",
              "      <th>GAGECL</th>\n",
              "      <th>GAGEML</th>\n",
              "      <th>KVUNB</th>\n",
              "      <th>QSMOY</th>\n",
              "      <th>QCREDL</th>\n",
              "      <th>DMVTPL</th>\n",
              "      <th>BOPPNL</th>\n",
              "      <th>FACANL</th>\n",
              "      <th>LGAGTL</th>\n",
              "      <th>VIENB</th>\n",
              "      <th>VIEMTL</th>\n",
              "      <th>UEMNB</th>\n",
              "      <th>XLGNB</th>\n",
              "      <th>XLGMTL</th>\n",
              "      <th>YLVNB</th>\n",
              "      <th>YLVMTL</th>\n",
              "      <th>ROCNB</th>\n",
              "      <th>NPTAG</th>\n",
              "      <th>ITAVCL</th>\n",
              "      <th>HAVEFL</th>\n",
              "      <th>JNBJDL</th>\n",
              "      <th>CARVP</th>\n",
              "    </tr>\n",
              "  </thead>\n",
              "  <tbody>\n",
              "    <tr>\n",
              "      <th>148009</th>\n",
              "      <td>Shom</td>\n",
              "      <td>Fcou</td>\n",
              "      <td>Pint</td>\n",
              "      <td>K1</td>\n",
              "      <td>V1</td>\n",
              "      <td>U2</td>\n",
              "      <td>X2</td>\n",
              "      <td>Y2</td>\n",
              "      <td>R1</td>\n",
              "      <td>N0</td>\n",
              "      <td>E1</td>\n",
              "      <td>G1</td>\n",
              "      <td>F1</td>\n",
              "      <td>L0</td>\n",
              "      <td>H1</td>\n",
              "      <td>J1</td>\n",
              "      <td>A2</td>\n",
              "      <td>R2</td>\n",
              "      <td>Q2</td>\n",
              "      <td>O0</td>\n",
              "      <td>M2</td>\n",
              "      <td>T2</td>\n",
              "      <td>D0</td>\n",
              "      <td>B2</td>\n",
              "      <td>I2</td>\n",
              "      <td>238</td>\n",
              "      <td>51</td>\n",
              "      <td>0.000000</td>\n",
              "      <td>4.753590</td>\n",
              "      <td>13.461603</td>\n",
              "      <td>1.609438</td>\n",
              "      <td>11.688701</td>\n",
              "      <td>0.00000</td>\n",
              "      <td>11.688701</td>\n",
              "      <td>2</td>\n",
              "      <td>35938</td>\n",
              "      <td>4.744932</td>\n",
              "      <td>2.484907</td>\n",
              "      <td>3.912023</td>\n",
              "      <td>12.235714</td>\n",
              "      <td>0.0</td>\n",
              "      <td>1</td>\n",
              "      <td>11.935123</td>\n",
              "      <td>4</td>\n",
              "      <td>2</td>\n",
              "      <td>13.161865</td>\n",
              "      <td>2</td>\n",
              "      <td>12.110635</td>\n",
              "      <td>14</td>\n",
              "      <td>0</td>\n",
              "      <td>14.080718</td>\n",
              "      <td>13.230263</td>\n",
              "      <td>0.693147</td>\n",
              "      <td>Coui</td>\n",
              "    </tr>\n",
              "    <tr>\n",
              "      <th>552427</th>\n",
              "      <td>Shom</td>\n",
              "      <td>Fcou</td>\n",
              "      <td>Pint</td>\n",
              "      <td>K0</td>\n",
              "      <td>V0</td>\n",
              "      <td>U1</td>\n",
              "      <td>X0</td>\n",
              "      <td>Y1</td>\n",
              "      <td>R0</td>\n",
              "      <td>N0</td>\n",
              "      <td>E0</td>\n",
              "      <td>G0</td>\n",
              "      <td>F1</td>\n",
              "      <td>L0</td>\n",
              "      <td>H0</td>\n",
              "      <td>J0</td>\n",
              "      <td>A2</td>\n",
              "      <td>R1</td>\n",
              "      <td>Q0</td>\n",
              "      <td>O0</td>\n",
              "      <td>M2</td>\n",
              "      <td>T1</td>\n",
              "      <td>D1</td>\n",
              "      <td>B0</td>\n",
              "      <td>I2</td>\n",
              "      <td>139</td>\n",
              "      <td>58</td>\n",
              "      <td>0.000000</td>\n",
              "      <td>3.713572</td>\n",
              "      <td>8.132413</td>\n",
              "      <td>0.000000</td>\n",
              "      <td>0.000000</td>\n",
              "      <td>0.00000</td>\n",
              "      <td>0.000000</td>\n",
              "      <td>1</td>\n",
              "      <td>1336</td>\n",
              "      <td>3.713572</td>\n",
              "      <td>2.708050</td>\n",
              "      <td>1.098612</td>\n",
              "      <td>8.130059</td>\n",
              "      <td>0.0</td>\n",
              "      <td>0</td>\n",
              "      <td>0.000000</td>\n",
              "      <td>1</td>\n",
              "      <td>0</td>\n",
              "      <td>0.000000</td>\n",
              "      <td>1</td>\n",
              "      <td>8.132413</td>\n",
              "      <td>0</td>\n",
              "      <td>0</td>\n",
              "      <td>11.717872</td>\n",
              "      <td>0.000000</td>\n",
              "      <td>0.000000</td>\n",
              "      <td>Coui</td>\n",
              "    </tr>\n",
              "    <tr>\n",
              "      <th>556005</th>\n",
              "      <td>Shom</td>\n",
              "      <td>Fseu</td>\n",
              "      <td>Psan</td>\n",
              "      <td>K0</td>\n",
              "      <td>V0</td>\n",
              "      <td>U2</td>\n",
              "      <td>X1</td>\n",
              "      <td>Y2</td>\n",
              "      <td>R1</td>\n",
              "      <td>N0</td>\n",
              "      <td>E0</td>\n",
              "      <td>G0</td>\n",
              "      <td>F0</td>\n",
              "      <td>L0</td>\n",
              "      <td>H0</td>\n",
              "      <td>J0</td>\n",
              "      <td>A0</td>\n",
              "      <td>R1</td>\n",
              "      <td>Q2</td>\n",
              "      <td>O0</td>\n",
              "      <td>M1</td>\n",
              "      <td>T2</td>\n",
              "      <td>D0</td>\n",
              "      <td>B1</td>\n",
              "      <td>I2</td>\n",
              "      <td>99</td>\n",
              "      <td>27</td>\n",
              "      <td>0.000000</td>\n",
              "      <td>2.890372</td>\n",
              "      <td>11.242717</td>\n",
              "      <td>0.000000</td>\n",
              "      <td>0.000000</td>\n",
              "      <td>0.00000</td>\n",
              "      <td>0.000000</td>\n",
              "      <td>1</td>\n",
              "      <td>12221</td>\n",
              "      <td>2.890372</td>\n",
              "      <td>2.484907</td>\n",
              "      <td>3.178054</td>\n",
              "      <td>0.000000</td>\n",
              "      <td>0.0</td>\n",
              "      <td>0</td>\n",
              "      <td>0.000000</td>\n",
              "      <td>3</td>\n",
              "      <td>1</td>\n",
              "      <td>10.743178</td>\n",
              "      <td>2</td>\n",
              "      <td>10.309286</td>\n",
              "      <td>14</td>\n",
              "      <td>0</td>\n",
              "      <td>11.329303</td>\n",
              "      <td>0.000000</td>\n",
              "      <td>0.000000</td>\n",
              "      <td>Coui</td>\n",
              "    </tr>\n",
              "    <tr>\n",
              "      <th>556686</th>\n",
              "      <td>Shom</td>\n",
              "      <td>Fseu</td>\n",
              "      <td>Pouv</td>\n",
              "      <td>K0</td>\n",
              "      <td>V1</td>\n",
              "      <td>U2</td>\n",
              "      <td>X2</td>\n",
              "      <td>Y2</td>\n",
              "      <td>R1</td>\n",
              "      <td>N1</td>\n",
              "      <td>E0</td>\n",
              "      <td>G1</td>\n",
              "      <td>F0</td>\n",
              "      <td>L0</td>\n",
              "      <td>H1</td>\n",
              "      <td>J1</td>\n",
              "      <td>A1</td>\n",
              "      <td>R1</td>\n",
              "      <td>Q2</td>\n",
              "      <td>O0</td>\n",
              "      <td>M2</td>\n",
              "      <td>T2</td>\n",
              "      <td>D0</td>\n",
              "      <td>B2</td>\n",
              "      <td>I2</td>\n",
              "      <td>89</td>\n",
              "      <td>49</td>\n",
              "      <td>0.000000</td>\n",
              "      <td>5.926926</td>\n",
              "      <td>13.067592</td>\n",
              "      <td>0.000000</td>\n",
              "      <td>12.250391</td>\n",
              "      <td>10.54165</td>\n",
              "      <td>12.050611</td>\n",
              "      <td>1</td>\n",
              "      <td>21187</td>\n",
              "      <td>5.342334</td>\n",
              "      <td>2.484907</td>\n",
              "      <td>3.912023</td>\n",
              "      <td>0.000000</td>\n",
              "      <td>0.0</td>\n",
              "      <td>1</td>\n",
              "      <td>9.972267</td>\n",
              "      <td>5</td>\n",
              "      <td>3</td>\n",
              "      <td>12.899220</td>\n",
              "      <td>2</td>\n",
              "      <td>11.203025</td>\n",
              "      <td>11</td>\n",
              "      <td>1</td>\n",
              "      <td>13.111856</td>\n",
              "      <td>9.972267</td>\n",
              "      <td>2.772589</td>\n",
              "      <td>Coui</td>\n",
              "    </tr>\n",
              "    <tr>\n",
              "      <th>642680</th>\n",
              "      <td>Shom</td>\n",
              "      <td>Fcou</td>\n",
              "      <td>Pint</td>\n",
              "      <td>K0</td>\n",
              "      <td>V0</td>\n",
              "      <td>U2</td>\n",
              "      <td>X1</td>\n",
              "      <td>Y2</td>\n",
              "      <td>R1</td>\n",
              "      <td>N0</td>\n",
              "      <td>E0</td>\n",
              "      <td>G0</td>\n",
              "      <td>F0</td>\n",
              "      <td>L0</td>\n",
              "      <td>H0</td>\n",
              "      <td>J1</td>\n",
              "      <td>A2</td>\n",
              "      <td>R2</td>\n",
              "      <td>Q1</td>\n",
              "      <td>O2</td>\n",
              "      <td>M2</td>\n",
              "      <td>T2</td>\n",
              "      <td>D0</td>\n",
              "      <td>B2</td>\n",
              "      <td>I2</td>\n",
              "      <td>216</td>\n",
              "      <td>64</td>\n",
              "      <td>1.791759</td>\n",
              "      <td>3.218876</td>\n",
              "      <td>11.270382</td>\n",
              "      <td>0.000000</td>\n",
              "      <td>0.000000</td>\n",
              "      <td>0.00000</td>\n",
              "      <td>0.000000</td>\n",
              "      <td>1</td>\n",
              "      <td>7154</td>\n",
              "      <td>3.218876</td>\n",
              "      <td>2.484907</td>\n",
              "      <td>4.219508</td>\n",
              "      <td>0.000000</td>\n",
              "      <td>0.0</td>\n",
              "      <td>0</td>\n",
              "      <td>0.000000</td>\n",
              "      <td>4</td>\n",
              "      <td>1</td>\n",
              "      <td>10.457976</td>\n",
              "      <td>2</td>\n",
              "      <td>9.190546</td>\n",
              "      <td>27</td>\n",
              "      <td>0</td>\n",
              "      <td>11.304904</td>\n",
              "      <td>0.000000</td>\n",
              "      <td>1.386294</td>\n",
              "      <td>Coui</td>\n",
              "    </tr>\n",
              "  </tbody>\n",
              "</table>\n",
              "</div>"
            ],
            "text/plain": [
              "       SEXEQ FAMIQ PCSPQ kvunbq  ...     ITAVCL     HAVEFL    JNBJDL CARVP\n",
              "148009  Shom  Fcou  Pint     K1  ...  14.080718  13.230263  0.693147  Coui\n",
              "552427  Shom  Fcou  Pint     K0  ...  11.717872   0.000000  0.000000  Coui\n",
              "556005  Shom  Fseu  Psan     K0  ...  11.329303   0.000000  0.000000  Coui\n",
              "556686  Shom  Fseu  Pouv     K0  ...  13.111856   9.972267  2.772589  Coui\n",
              "642680  Shom  Fcou  Pint     K0  ...  11.304904   0.000000  1.386294  Coui\n",
              "\n",
              "[5 rows x 54 columns]"
            ]
          },
          "metadata": {
            "tags": []
          },
          "execution_count": 7
        }
      ]
    },
    {
      "cell_type": "code",
      "metadata": {
        "colab": {
          "base_uri": "https://localhost:8080/",
          "height": 320
        },
        "collapsed": true,
        "id": "b5bIRqfBmD2U",
        "outputId": "9710eb75-0e60-452b-f64e-fad208872f9b"
      },
      "source": [
        "# Isoler les Variables quantitatives\n",
        "vispremv.describe()"
      ],
      "execution_count": 8,
      "outputs": [
        {
          "output_type": "execute_result",
          "data": {
            "text/html": [
              "<div>\n",
              "<style scoped>\n",
              "    .dataframe tbody tr th:only-of-type {\n",
              "        vertical-align: middle;\n",
              "    }\n",
              "\n",
              "    .dataframe tbody tr th {\n",
              "        vertical-align: top;\n",
              "    }\n",
              "\n",
              "    .dataframe thead th {\n",
              "        text-align: right;\n",
              "    }\n",
              "</style>\n",
              "<table border=\"1\" class=\"dataframe\">\n",
              "  <thead>\n",
              "    <tr style=\"text-align: right;\">\n",
              "      <th></th>\n",
              "      <th>RELAT</th>\n",
              "      <th>AGER</th>\n",
              "      <th>OPGNBL</th>\n",
              "      <th>MOYRVL</th>\n",
              "      <th>TAVEPL</th>\n",
              "      <th>ENDETL</th>\n",
              "      <th>GAGETL</th>\n",
              "      <th>GAGECL</th>\n",
              "      <th>GAGEML</th>\n",
              "      <th>KVUNB</th>\n",
              "      <th>QSMOY</th>\n",
              "      <th>QCREDL</th>\n",
              "      <th>DMVTPL</th>\n",
              "      <th>BOPPNL</th>\n",
              "      <th>FACANL</th>\n",
              "      <th>LGAGTL</th>\n",
              "      <th>VIENB</th>\n",
              "      <th>VIEMTL</th>\n",
              "      <th>UEMNB</th>\n",
              "      <th>XLGNB</th>\n",
              "      <th>XLGMTL</th>\n",
              "      <th>YLVNB</th>\n",
              "      <th>YLVMTL</th>\n",
              "      <th>ROCNB</th>\n",
              "      <th>NPTAG</th>\n",
              "      <th>ITAVCL</th>\n",
              "      <th>HAVEFL</th>\n",
              "      <th>JNBJDL</th>\n",
              "    </tr>\n",
              "  </thead>\n",
              "  <tbody>\n",
              "    <tr>\n",
              "      <th>count</th>\n",
              "      <td>1063.000000</td>\n",
              "      <td>1063.000000</td>\n",
              "      <td>1063.000000</td>\n",
              "      <td>1063.000000</td>\n",
              "      <td>1063.000000</td>\n",
              "      <td>1063.000000</td>\n",
              "      <td>1063.000000</td>\n",
              "      <td>1063.000000</td>\n",
              "      <td>1063.000000</td>\n",
              "      <td>1063.000000</td>\n",
              "      <td>1063.000000</td>\n",
              "      <td>1063.000000</td>\n",
              "      <td>1063.000000</td>\n",
              "      <td>1063.000000</td>\n",
              "      <td>1063.000000</td>\n",
              "      <td>1063.000000</td>\n",
              "      <td>1063.000000</td>\n",
              "      <td>1063.000000</td>\n",
              "      <td>1063.000000</td>\n",
              "      <td>1063.000000</td>\n",
              "      <td>1063.000000</td>\n",
              "      <td>1063.000000</td>\n",
              "      <td>1063.000000</td>\n",
              "      <td>1063.000000</td>\n",
              "      <td>1063.000000</td>\n",
              "      <td>1063.000000</td>\n",
              "      <td>1063.000000</td>\n",
              "      <td>1063.000000</td>\n",
              "    </tr>\n",
              "    <tr>\n",
              "      <th>mean</th>\n",
              "      <td>132.574788</td>\n",
              "      <td>42.573848</td>\n",
              "      <td>0.627211</td>\n",
              "      <td>2.371296</td>\n",
              "      <td>6.715418</td>\n",
              "      <td>0.827903</td>\n",
              "      <td>4.477338</td>\n",
              "      <td>1.868891</td>\n",
              "      <td>2.394713</td>\n",
              "      <td>1.028222</td>\n",
              "      <td>10629.129821</td>\n",
              "      <td>2.238062</td>\n",
              "      <td>2.508658</td>\n",
              "      <td>2.751399</td>\n",
              "      <td>2.827715</td>\n",
              "      <td>1.635187</td>\n",
              "      <td>0.239887</td>\n",
              "      <td>1.796629</td>\n",
              "      <td>1.468485</td>\n",
              "      <td>0.649106</td>\n",
              "      <td>4.161701</td>\n",
              "      <td>0.760113</td>\n",
              "      <td>4.726685</td>\n",
              "      <td>8.564440</td>\n",
              "      <td>0.136406</td>\n",
              "      <td>9.373976</td>\n",
              "      <td>3.043170</td>\n",
              "      <td>1.189791</td>\n",
              "    </tr>\n",
              "    <tr>\n",
              "      <th>std</th>\n",
              "      <td>93.499830</td>\n",
              "      <td>11.912343</td>\n",
              "      <td>0.685315</td>\n",
              "      <td>1.464376</td>\n",
              "      <td>4.907295</td>\n",
              "      <td>1.279475</td>\n",
              "      <td>5.473534</td>\n",
              "      <td>3.680483</td>\n",
              "      <td>4.540024</td>\n",
              "      <td>0.501554</td>\n",
              "      <td>23825.306640</td>\n",
              "      <td>1.416175</td>\n",
              "      <td>0.969467</td>\n",
              "      <td>1.422198</td>\n",
              "      <td>4.756887</td>\n",
              "      <td>4.208156</td>\n",
              "      <td>0.789424</td>\n",
              "      <td>4.094587</td>\n",
              "      <td>1.280262</td>\n",
              "      <td>0.794352</td>\n",
              "      <td>5.205502</td>\n",
              "      <td>0.782235</td>\n",
              "      <td>4.662683</td>\n",
              "      <td>11.738092</td>\n",
              "      <td>0.379837</td>\n",
              "      <td>3.313518</td>\n",
              "      <td>4.665580</td>\n",
              "      <td>1.587594</td>\n",
              "    </tr>\n",
              "    <tr>\n",
              "      <th>min</th>\n",
              "      <td>-2.000000</td>\n",
              "      <td>18.000000</td>\n",
              "      <td>0.000000</td>\n",
              "      <td>0.000000</td>\n",
              "      <td>0.000000</td>\n",
              "      <td>0.000000</td>\n",
              "      <td>0.000000</td>\n",
              "      <td>0.000000</td>\n",
              "      <td>0.000000</td>\n",
              "      <td>0.000000</td>\n",
              "      <td>-70050.000000</td>\n",
              "      <td>0.000000</td>\n",
              "      <td>0.000000</td>\n",
              "      <td>0.000000</td>\n",
              "      <td>0.000000</td>\n",
              "      <td>0.000000</td>\n",
              "      <td>0.000000</td>\n",
              "      <td>0.000000</td>\n",
              "      <td>0.000000</td>\n",
              "      <td>0.000000</td>\n",
              "      <td>0.000000</td>\n",
              "      <td>0.000000</td>\n",
              "      <td>0.000000</td>\n",
              "      <td>0.000000</td>\n",
              "      <td>0.000000</td>\n",
              "      <td>0.000000</td>\n",
              "      <td>0.000000</td>\n",
              "      <td>0.000000</td>\n",
              "    </tr>\n",
              "    <tr>\n",
              "      <th>25%</th>\n",
              "      <td>42.500000</td>\n",
              "      <td>33.000000</td>\n",
              "      <td>0.000000</td>\n",
              "      <td>1.386294</td>\n",
              "      <td>0.000000</td>\n",
              "      <td>0.000000</td>\n",
              "      <td>0.000000</td>\n",
              "      <td>0.000000</td>\n",
              "      <td>0.000000</td>\n",
              "      <td>1.000000</td>\n",
              "      <td>440.000000</td>\n",
              "      <td>1.386294</td>\n",
              "      <td>2.639057</td>\n",
              "      <td>1.945910</td>\n",
              "      <td>0.000000</td>\n",
              "      <td>0.000000</td>\n",
              "      <td>0.000000</td>\n",
              "      <td>0.000000</td>\n",
              "      <td>0.000000</td>\n",
              "      <td>0.000000</td>\n",
              "      <td>0.000000</td>\n",
              "      <td>0.000000</td>\n",
              "      <td>0.000000</td>\n",
              "      <td>0.000000</td>\n",
              "      <td>0.000000</td>\n",
              "      <td>8.067305</td>\n",
              "      <td>0.000000</td>\n",
              "      <td>0.000000</td>\n",
              "    </tr>\n",
              "    <tr>\n",
              "      <th>50%</th>\n",
              "      <td>130.000000</td>\n",
              "      <td>43.000000</td>\n",
              "      <td>0.693147</td>\n",
              "      <td>2.564949</td>\n",
              "      <td>8.652248</td>\n",
              "      <td>0.000000</td>\n",
              "      <td>0.000000</td>\n",
              "      <td>0.000000</td>\n",
              "      <td>0.000000</td>\n",
              "      <td>1.000000</td>\n",
              "      <td>4421.000000</td>\n",
              "      <td>2.484907</td>\n",
              "      <td>2.639057</td>\n",
              "      <td>3.258097</td>\n",
              "      <td>0.000000</td>\n",
              "      <td>0.000000</td>\n",
              "      <td>0.000000</td>\n",
              "      <td>0.000000</td>\n",
              "      <td>1.000000</td>\n",
              "      <td>0.000000</td>\n",
              "      <td>0.000000</td>\n",
              "      <td>1.000000</td>\n",
              "      <td>4.882802</td>\n",
              "      <td>2.000000</td>\n",
              "      <td>0.000000</td>\n",
              "      <td>10.075969</td>\n",
              "      <td>0.000000</td>\n",
              "      <td>0.000000</td>\n",
              "    </tr>\n",
              "    <tr>\n",
              "      <th>75%</th>\n",
              "      <td>204.500000</td>\n",
              "      <td>52.000000</td>\n",
              "      <td>1.098612</td>\n",
              "      <td>3.349750</td>\n",
              "      <td>10.962298</td>\n",
              "      <td>1.945910</td>\n",
              "      <td>10.483833</td>\n",
              "      <td>0.000000</td>\n",
              "      <td>0.000000</td>\n",
              "      <td>1.000000</td>\n",
              "      <td>11111.000000</td>\n",
              "      <td>3.218876</td>\n",
              "      <td>2.708050</td>\n",
              "      <td>3.784190</td>\n",
              "      <td>8.160804</td>\n",
              "      <td>0.000000</td>\n",
              "      <td>0.000000</td>\n",
              "      <td>0.000000</td>\n",
              "      <td>2.000000</td>\n",
              "      <td>1.000000</td>\n",
              "      <td>10.033572</td>\n",
              "      <td>1.000000</td>\n",
              "      <td>9.651494</td>\n",
              "      <td>14.000000</td>\n",
              "      <td>0.000000</td>\n",
              "      <td>11.649131</td>\n",
              "      <td>6.216606</td>\n",
              "      <td>2.441401</td>\n",
              "    </tr>\n",
              "    <tr>\n",
              "      <th>max</th>\n",
              "      <td>393.000000</td>\n",
              "      <td>65.000000</td>\n",
              "      <td>3.367296</td>\n",
              "      <td>7.451242</td>\n",
              "      <td>13.785052</td>\n",
              "      <td>4.605170</td>\n",
              "      <td>15.060512</td>\n",
              "      <td>13.123924</td>\n",
              "      <td>14.296852</td>\n",
              "      <td>4.000000</td>\n",
              "      <td>241827.000000</td>\n",
              "      <td>6.855409</td>\n",
              "      <td>6.851185</td>\n",
              "      <td>5.572154</td>\n",
              "      <td>14.101840</td>\n",
              "      <td>15.060512</td>\n",
              "      <td>13.000000</td>\n",
              "      <td>15.511046</td>\n",
              "      <td>9.000000</td>\n",
              "      <td>4.000000</td>\n",
              "      <td>13.270100</td>\n",
              "      <td>4.000000</td>\n",
              "      <td>13.785052</td>\n",
              "      <td>69.000000</td>\n",
              "      <td>4.000000</td>\n",
              "      <td>16.045468</td>\n",
              "      <td>15.770893</td>\n",
              "      <td>4.905275</td>\n",
              "    </tr>\n",
              "  </tbody>\n",
              "</table>\n",
              "</div>"
            ],
            "text/plain": [
              "             RELAT         AGER  ...       HAVEFL       JNBJDL\n",
              "count  1063.000000  1063.000000  ...  1063.000000  1063.000000\n",
              "mean    132.574788    42.573848  ...     3.043170     1.189791\n",
              "std      93.499830    11.912343  ...     4.665580     1.587594\n",
              "min      -2.000000    18.000000  ...     0.000000     0.000000\n",
              "25%      42.500000    33.000000  ...     0.000000     0.000000\n",
              "50%     130.000000    43.000000  ...     0.000000     0.000000\n",
              "75%     204.500000    52.000000  ...     6.216606     2.441401\n",
              "max     393.000000    65.000000  ...    15.770893     4.905275\n",
              "\n",
              "[8 rows x 28 columns]"
            ]
          },
          "metadata": {
            "tags": []
          },
          "execution_count": 8
        }
      ]
    },
    {
      "cell_type": "markdown",
      "metadata": {
        "id": "POt5aFyMmD2U"
      },
      "source": [
        "Vérifier ci-dessous que la plupart des variables ont deux versions, l'une quantitative et l'autre qualitative.\n",
        "\n",
        "Les variables qualitatives (sexe, csp, famille) sont transformées en indicatrices à l'exception de la cible `CARVP`."
      ]
    },
    {
      "cell_type": "code",
      "metadata": {
        "colab": {
          "base_uri": "https://localhost:8080/"
        },
        "collapsed": true,
        "id": "S4U2H5xQmD2W",
        "outputId": "e5926177-2eb5-4151-b93a-9f548f7ad855"
      },
      "source": [
        "# Identifier les variables qualitatives (object) ou quantitatives\n",
        "vispremv.dtypes\n",
        "# On observe que trois variables ne sont pas des recodages des variables quantitatives: SEXEQ, FAMIQ, PCSPQ"
      ],
      "execution_count": 9,
      "outputs": [
        {
          "output_type": "execute_result",
          "data": {
            "text/plain": [
              "SEXEQ      object\n",
              "FAMIQ      object\n",
              "PCSPQ      object\n",
              "kvunbq     object\n",
              "vienbq     object\n",
              "uemnbq     object\n",
              "xlgnbq     object\n",
              "ylvnbq     object\n",
              "rocnbq     object\n",
              "nptagq     object\n",
              "endetq     object\n",
              "gagetq     object\n",
              "facanq     object\n",
              "lgagtq     object\n",
              "havefq     object\n",
              "jnbjdq     object\n",
              "ageq       object\n",
              "relatq     object\n",
              "qsmoyq     object\n",
              "opgnbq     object\n",
              "moyrvq     object\n",
              "tavepq     object\n",
              "dmvtpq     object\n",
              "boppnq     object\n",
              "itavcq     object\n",
              "RELAT       int64\n",
              "AGER        int64\n",
              "OPGNBL    float64\n",
              "MOYRVL    float64\n",
              "TAVEPL    float64\n",
              "ENDETL    float64\n",
              "GAGETL    float64\n",
              "GAGECL    float64\n",
              "GAGEML    float64\n",
              "KVUNB       int64\n",
              "QSMOY       int64\n",
              "QCREDL    float64\n",
              "DMVTPL    float64\n",
              "BOPPNL    float64\n",
              "FACANL    float64\n",
              "LGAGTL    float64\n",
              "VIENB       int64\n",
              "VIEMTL    float64\n",
              "UEMNB       int64\n",
              "XLGNB       int64\n",
              "XLGMTL    float64\n",
              "YLVNB       int64\n",
              "YLVMTL    float64\n",
              "ROCNB       int64\n",
              "NPTAG       int64\n",
              "ITAVCL    float64\n",
              "HAVEFL    float64\n",
              "JNBJDL    float64\n",
              "CARVP      object\n",
              "dtype: object"
            ]
          },
          "metadata": {
            "tags": []
          },
          "execution_count": 9
        }
      ]
    },
    {
      "cell_type": "code",
      "metadata": {
        "collapsed": true,
        "id": "aWxCt95MmD2W"
      },
      "source": [
        "# Transformation en indicatrices des variables qualitatives\n",
        "# Utiliser pd.get_dummies\n",
        "vispremDum = pd.get_dummies(vispremv[[\"SEXEQ\", \"FAMIQ\", \"PCSPQ\"]],drop_first=True)\n",
        "\n",
        " \n",
        "\n",
        "# Concaténation ensuite avec les variables numériques\n",
        "vispremNum = vispremv.select_dtypes(exclude=['object'])\n",
        "vispremR = pd.concat([vispremDum,vispremNum],axis=1)\n",
        " \n",
        " "
      ],
      "execution_count": 10,
      "outputs": []
    },
    {
      "cell_type": "markdown",
      "metadata": {
        "id": "FCXag4YvmD2W"
      },
      "source": [
        "**Q** Combien d'individus et combien de variables sont finalement concernés? "
      ]
    },
    {
      "cell_type": "code",
      "metadata": {
        "colab": {
          "base_uri": "https://localhost:8080/"
        },
        "collapsed": true,
        "id": "9qJd3uqAmD2W",
        "outputId": "28886a98-7856-4fdf-d979-574adc501b18"
      },
      "source": [
        "#TODO calculer nombre individus et variables\n",
        "print(vispremR.shape)\n"
      ],
      "execution_count": 11,
      "outputs": [
        {
          "output_type": "stream",
          "text": [
            "(1063, 34)\n"
          ],
          "name": "stdout"
        }
      ]
    },
    {
      "cell_type": "code",
      "metadata": {
        "collapsed": true,
        "id": "EreOuf0smD2X"
      },
      "source": [
        "# La variable à expliquer est recodée\n",
        "y=vispremv[\"CARVP\"].map(lambda x: 0 if x==\"Cnon\" else 1)"
      ],
      "execution_count": 13,
      "outputs": []
    },
    {
      "cell_type": "markdown",
      "metadata": {
        "id": "3WbkKZ_GmD2X"
      },
      "source": [
        "### Extraction des échantillons apprentissage et test"
      ]
    },
    {
      "cell_type": "code",
      "metadata": {
        "colab": {
          "base_uri": "https://localhost:8080/"
        },
        "collapsed": true,
        "id": "MJMJ-XOemD2X",
        "outputId": "2f7be6c4-b6c5-4012-a525-9744460885fd"
      },
      "source": [
        "rd_seed = 20052021  # Modifier cette valeur d'initialisation\n",
        "npop = len(vispremv)\n",
        "#On placera 200 points dans l'ensmeble de test\n",
        "xApp, xTest, yApp, yTest = train_test_split(vispremR,\n",
        "                                            y,\n",
        "                                            test_size=200,random_state = rd_seed)\n",
        "#Taille de l'échantillon train obtenu\n",
        "print(xApp.shape)"
      ],
      "execution_count": 14,
      "outputs": [
        {
          "output_type": "stream",
          "text": [
            "(863, 34)\n"
          ],
          "name": "stdout"
        }
      ]
    },
    {
      "cell_type": "markdown",
      "metadata": {
        "id": "F4ZUZbxtmD2X"
      },
      "source": [
        "## [Régression logistique](http://wikistat.fr/pdf/st-m-app-rlogit.pdf)\n",
        "Cette ancienne méthode reste toujours très utilisée. D'abord par habitude mais aussi par efficacité pour le traitement de données très volumineuses lors de l'estimation de très gros modèles (beaucoup de variables) notamment par exemple chez Criteo ou CDiscount.\n",
        "\n",
        "### Estimation et optimisation\n",
        "La procédure de sélection de modèle est celle par pénalisation: *ridge*, Lasso ou une combinaison (*elastic net*). Contrairement aux procédures disponibles en R (*stepwise, backward, forward*) optimisant un critère comme *AIC*, l'algorithme proposé dans `scikit-learn` nepermet pas une prise en compte simple des interactions. D'autre part les compléments usuels (test de Wald ou du rapport de vraisemblance) ne sont pas directement fournis. \n",
        "\n"
      ]
    },
    {
      "cell_type": "markdown",
      "metadata": {
        "id": "U0iu1EJAmD2Y"
      },
      "source": [
        "#### Remarque importante: \n",
        "\n",
        "POur la cross validation, doit on couper le **dataset complet** en train + validation sets ou bien seulement **l'ensemble d'apprentissage**?\n",
        "\n",
        "A première vue, on pourrait donner le dataset entier, car on va déjà dans la cross validation couper en deux, mais en fait il faut couper en trois:\n",
        "- un test set qu'on réserve \n",
        "- un ensemble d'apprentissage sur lequel on fait de la validation croisée (donc qu'on va couper de nombreuses fois en un train set + un validation set)\n",
        "\n",
        "Sinon, comme on va choisir le paramètre qui a le meilleur résultat sur l'ensemble de validation (ou qui a le meilleur résultat après cross validation), il est possible qu'on choisisse un paramètre pour lequel le score était particuliérement bon \"par chance\".\n",
        "\n",
        "On évaluera toujours en dernier lieu la performance sur un dataset (le test) complètement indépendant du processus de sélection des paramètres (le train) ou hyperparamètres (le validation).\n",
        "\n",
        "C'est ce qui apparaissait dans le pipeline au premier cours !\n",
        "\n",
        "<center>\n",
        "<img src=\"http://www.cmap.polytechnique.fr/~aymeric.dieuleveut/papers/This-is-ML-pipe\" style=\"float:left; max-width: 600px; display: inline\" alt=\"INSA\"/></center>\n",
        "<br>\n",
        "\n",
        "\n",
        "Voir par exemple: https://towardsdatascience.com/train-validation-and-test-sets-72cb40cba9e7\n",
        "\n",
        "On s'intéresse tout d'abord à une pénalisation $L^1$ des coefficients. Ensuite on essaye d'optimiser le paramètre par validation croisée, d'abord à la main, ensuite en utilisant un gridsearch.\n"
      ]
    },
    {
      "cell_type": "code",
      "metadata": {
        "colab": {
          "base_uri": "https://localhost:8080/"
        },
        "id": "6MsYhcQvp2Pl",
        "outputId": "c9902066-5e6d-4780-ba59-fa3db577f761"
      },
      "source": [
        "# Commençons par fitter une regression logistique avec 1 parametre C=1 - Pénalité L1 - Solver Liblinear\n",
        "from sklearn.linear_model import LogisticRegression\n",
        "\n",
        "#Définition du modèle\n",
        "C = 1\n",
        "clf = LogisticRegression(solver='liblinear', C=C, penalty='l1')\n",
        "\n",
        "#Apprentissage\n",
        "clf.fit(xApp, yApp)\n",
        "\n",
        "#Test\n",
        "clf.score(xTest, yTest)"
      ],
      "execution_count": 15,
      "outputs": [
        {
          "output_type": "execute_result",
          "data": {
            "text/plain": [
              "0.835"
            ]
          },
          "metadata": {
            "tags": []
          },
          "execution_count": 15
        }
      ]
    },
    {
      "cell_type": "code",
      "metadata": {
        "colab": {
          "base_uri": "https://localhost:8080/",
          "height": 268
        },
        "id": "mp1tOtrHpykw",
        "outputId": "5a65d5e4-a2d4-4ddb-ad01-106973689ab1"
      },
      "source": [
        "# Tracons l'erreur en focntion de la valeur de C regression logistique \n",
        "for rd_seed in range(10):\n",
        "    xTrain, xVal, yTrain, yVal = train_test_split(xApp,\n",
        "                                                  yApp,\n",
        "                                                  test_size=0.2,\n",
        "                                                  random_state=rd_seed)\n",
        "\n",
        "    Cs = np.logspace(-2,2,20)\n",
        "    score_selon_C = np.zeros((1, len(Cs)))\n",
        "    for i, C in enumerate(Cs):\n",
        "        clf = LogisticRegression(solver='liblinear',\n",
        "                                 C=C,\n",
        "                                 penalty='l1',\n",
        "                                 random_state=rd_seed)\n",
        "\n",
        "        clf.fit(xTrain, yTrain)\n",
        "        score_selon_C[0, i] = 100 * clf.score(xVal, yVal)\n",
        "        #print('POur C= %.1f, on obtient une accuracy de %.1f %%' %\n",
        "        #   (C, 100 * clf.score(xTest, yTest)))\n",
        "\n",
        "    plt.plot(np.log10(Cs), score_selon_C[0, :])"
      ],
      "execution_count": 16,
      "outputs": [
        {
          "output_type": "display_data",
          "data": {
            "image/png": "[encoded data removed]",
            "text/plain": [
              "<Figure size 432x288 with 1 Axes>"
            ]
          },
          "metadata": {
            "tags": [],
            "needs_background": "light"
          }
        }
      ]
    },
    {
      "cell_type": "code",
      "metadata": {
        "colab": {
          "base_uri": "https://localhost:8080/",
          "height": 302
        },
        "id": "-J5o2aJsq1hJ",
        "outputId": "867b01f0-3f1a-4689-9cf3-f23290826ef8"
      },
      "source": [
        "#Automatisation par GridSearch CV\n",
        "\n",
        "param = [{\n",
        "    \"C\": np.logspace(-2,2,20)\n",
        "}]  # dictionnaire de valeurs de C, utilisé pour GridSearchCV\n",
        "\n",
        "logitLasso = GridSearchCV(LogisticRegression(solver='liblinear',\n",
        "                                 penalty='l1',\n",
        "                                 random_state=rd_seed),\n",
        "                          param, cv=20)\n",
        "logitLasso.fit(xApp, yApp)\n",
        "print(logitLasso.best_params_)\n",
        "plt.plot(np.log10(param[0]['C']), logitLasso.cv_results_['mean_test_score'])"
      ],
      "execution_count": 17,
      "outputs": [
        {
          "output_type": "stream",
          "text": [
            "{'C': 8.858667904100823}\n"
          ],
          "name": "stdout"
        },
        {
          "output_type": "execute_result",
          "data": {
            "text/plain": [
              "[<matplotlib.lines.Line2D at 0x7ff5d1650890>]"
            ]
          },
          "metadata": {
            "tags": []
          },
          "execution_count": 17
        },
        {
          "output_type": "display_data",
          "data": {
            "image/png": "[encoded data removed]",
            "text/plain": [
              "<Figure size 432x288 with 1 Axes>"
            ]
          },
          "metadata": {
            "tags": [],
            "needs_background": "light"
          }
        }
      ]
    },
    {
      "cell_type": "code",
      "metadata": {
        "colab": {
          "base_uri": "https://localhost:8080/"
        },
        "id": "Xs_0xg1DrUQW",
        "outputId": "0099792a-d875-449c-dfd4-fcdcec3173d9"
      },
      "source": [
        "print('Le meilleur paramètre est C= %.1e, le meilleur score est %.1f %%' %(logitLasso.best_params_['C'], 100*logitLasso.best_score_))"
      ],
      "execution_count": 18,
      "outputs": [
        {
          "output_type": "stream",
          "text": [
            "Le meilleur paramètre est C= 8.9e+00, le meilleur score est 83.2 %\n"
          ],
          "name": "stdout"
        }
      ]
    },
    {
      "cell_type": "code",
      "metadata": {
        "colab": {
          "base_uri": "https://localhost:8080/"
        },
        "id": "t0lU-NSirbUA",
        "outputId": "cfa69142-906e-43fc-e6fb-3db1567c7ca8"
      },
      "source": [
        "# Calculer perte sur l'échantillon d'apprentissage \n",
        "print(\"Meilleur score (apprentissage) = %f, Meilleur paramètre = %s\" %\n",
        "      (1.-logitLasso.best_score_,logitLasso.best_params_))\n"
      ],
      "execution_count": 19,
      "outputs": [
        {
          "output_type": "stream",
          "text": [
            "Meilleur score (apprentissage) = 0.167891, Meilleur paramètre = {'C': 8.858667904100823}\n"
          ],
          "name": "stdout"
        }
      ]
    },
    {
      "cell_type": "code",
      "metadata": {
        "colab": {
          "base_uri": "https://localhost:8080/"
        },
        "id": "7NHpL1eQrm4j",
        "outputId": "7c9964e2-9865-429c-d773-d5cfcc349c28"
      },
      "source": [
        "Copt=logitLasso.best_params_['C']\n",
        "\n",
        "logitLassoOpt=LogisticRegression(solver='liblinear',penalty=\"l1\",C=Copt) # replace by the best parameters !!\n",
        "logitLassoOpt=logitLassoOpt.fit(xApp, yApp)\n",
        "\n",
        "# Prévision\n",
        "yChap = logitLassoOpt.predict(xTest)\n",
        "# matrice de confusion\n",
        "table=pd.crosstab(yChap,yTest)\n",
        "print(table)\n",
        "# Erreur sur l'échantillon test\n",
        "print(\"Erreur de test régression Lasso = %f\" % (1-logitLasso.score(xTest, yTest)))"
      ],
      "execution_count": 20,
      "outputs": [
        {
          "output_type": "stream",
          "text": [
            "CARVP    0   1\n",
            "row_0         \n",
            "0      116  17\n",
            "1       15  52\n",
            "Erreur de test régression Lasso = 0.160000\n"
          ],
          "name": "stdout"
        }
      ]
    },
    {
      "cell_type": "code",
      "metadata": {
        "colab": {
          "base_uri": "https://localhost:8080/"
        },
        "id": "gNtpWNMv1CeC",
        "outputId": "1ace9881-96a6-46b2-9c1b-ccab7fbb2b05"
      },
      "source": [
        "# Récupération des coefficients\n",
        "vect_coef=np.matrix.transpose(logitLassoOpt.coef_)\n",
        "vect_coef=vect_coef.ravel()\n",
        "#Affichage des 25 plus importants\n",
        "coef=pd.Series(abs(vect_coef),index=xApp.columns).sort_values(ascending=False)\n",
        "print(coef)\n"
      ],
      "execution_count": 21,
      "outputs": [
        {
          "output_type": "stream",
          "text": [
            "PCSPQ_Psan    4.292701\n",
            "PCSPQ_Pouv    3.695626\n",
            "PCSPQ_Pint    2.929039\n",
            "PCSPQ_Pemp    2.712720\n",
            "SEXEQ_Shom    1.324059\n",
            "BOPPNL        1.113108\n",
            "XLGNB         1.060675\n",
            "KVUNB         1.039134\n",
            "UEMNB         0.879992\n",
            "NPTAG         0.857039\n",
            "QCREDL        0.837642\n",
            "OPGNBL        0.680539\n",
            "YLVNB         0.447916\n",
            "ENDETL        0.333770\n",
            "MOYRVL        0.299558\n",
            "DMVTPL        0.287585\n",
            "VIENB         0.148218\n",
            "HAVEFL        0.117969\n",
            "ITAVCL        0.099525\n",
            "GAGECL        0.096297\n",
            "YLVMTL        0.095515\n",
            "FAMIQ_Fseu    0.085961\n",
            "XLGMTL        0.069813\n",
            "VIEMTL        0.057357\n",
            "ROCNB         0.055633\n",
            "JNBJDL        0.045442\n",
            "FACANL        0.035566\n",
            "GAGEML        0.033772\n",
            "TAVEPL        0.033054\n",
            "GAGETL        0.027503\n",
            "LGAGTL        0.008186\n",
            "RELAT         0.008011\n",
            "AGER          0.006181\n",
            "QSMOY         0.000003\n",
            "dtype: float64\n"
          ],
          "name": "stdout"
        }
      ]
    },
    {
      "cell_type": "code",
      "metadata": {
        "colab": {
          "base_uri": "https://localhost:8080/",
          "height": 297
        },
        "id": "sjINJTUi1PPc",
        "outputId": "266bcbc5-e0eb-440d-ab6d-d7615f85ad11"
      },
      "source": [
        "plt.figure(figsize=(7,4))\n",
        "coef.plot(kind='bar')\n",
        "plt.title('Coeffients')\n",
        "plt.tight_layout()\n",
        "plt.show()\n",
        "#On affiche les coefficients \"importants\" pour la régression logistique pénalisée Lasso."
      ],
      "execution_count": 22,
      "outputs": [
        {
          "output_type": "display_data",
          "data": {
            "image/png": "[encoded data removed]",
            "text/plain": [
              "<Figure size 504x288 with 1 Axes>"
            ]
          },
          "metadata": {
            "tags": [],
            "needs_background": "light"
          }
        }
      ]
    },
    {
      "cell_type": "markdown",
      "metadata": {
        "id": "4vFXUuM2mD2Y"
      },
      "source": [
        "#### Optimisation *ridge*\n",
        "On considère maintenant l'optimisation Ridge, ou la pénalité est proportionnelle à la norme 2 de l'estimateur (au carré). On peut totalement changer la pénalité $L^1$ en pénalité $L^2$ et reprendre exactement la même procédure.\n"
      ]
    },
    {
      "cell_type": "code",
      "metadata": {
        "colab": {
          "base_uri": "https://localhost:8080/",
          "height": 302
        },
        "collapsed": true,
        "id": "p5bYATtOmD2Y",
        "outputId": "6906dfd0-fcf5-4cbb-e983-338fd93718a9"
      },
      "source": [
        "#Automatisation par GridSearch CV et L2\n",
        "\n",
        "param = [{\n",
        "    \"C\": np.logspace(-2,2,20)\n",
        "}]  # dictionnaire de valeurs de C, utilisé pour GridSearchCV\n",
        "\n",
        "logitRidge = GridSearchCV(LogisticRegression(solver='liblinear',\n",
        "                                 penalty='l2',\n",
        "                                 random_state=rd_seed),\n",
        "                          param, cv=20)\n",
        "logitRidge.fit(xApp, yApp)\n",
        "print(logitRidge.best_params_)\n",
        "plt.plot(np.log10(param[0]['C']),logitRidge.cv_results_['mean_test_score'])\n",
        "\n",
        "print('Le meilleur paramètre est C= %.1e, le meilleur score est %.1f %%' %(logitRidge.best_params_['C'], 100*logitRidge.best_score_))"
      ],
      "execution_count": null,
      "outputs": [
        {
          "output_type": "stream",
          "text": [
            "{'C': 14.38449888287663}\n",
            "Le meilleur paramètre est C= 1.4e+01, le meilleur score est 83.2 %\n"
          ],
          "name": "stdout"
        },
        {
          "output_type": "display_data",
          "data": {
            "image/png": "[encoded data removed]",
            "text/plain": [
              "<Figure size 432x288 with 1 Axes>"
            ]
          },
          "metadata": {
            "tags": [],
            "needs_background": "light"
          }
        }
      ]
    },
    {
      "cell_type": "code",
      "metadata": {
        "colab": {
          "base_uri": "https://localhost:8080/"
        },
        "collapsed": true,
        "id": "u8YDVXL6mD2Z",
        "outputId": "c3271ad1-72cc-495e-bbff-d016b018d2f6"
      },
      "source": [
        "# Calculer perte sur l'échantillon d'apprentissage \n",
        "print(\"Meilleur score (apprentissage) = %f, Meilleur paramètre = %s\" %\n",
        "      (1.-logitRidge.best_score_,logitRidge.best_params_))\n",
        "Copt=logitRidge.best_params_['C']\n",
        "\n",
        "LogitRidgeOpt=LogisticRegression(solver='liblinear',penalty=\"l2\",C=Copt) # replace by the best parameters !!\n",
        "LogitRidgeOpt=LogitRidgeOpt.fit(xApp, yApp)\n",
        "\n",
        "\n",
        "# Prévision\n",
        "yChap = LogitRidgeOpt.predict(xTest)\n",
        "# matrice de confusion\n",
        "table=pd.crosstab(yChap,yTest)\n",
        "print(table)\n",
        "# Erreur sur l'échantillon test\n",
        "print(\"Erreur de test régression Ridge = %f\" % (1-LogitRidgeOpt.score(xTest, yTest)))"
      ],
      "execution_count": null,
      "outputs": [
        {
          "output_type": "stream",
          "text": [
            "Meilleur score (apprentissage) = 0.167891, Meilleur paramètre = {'C': 14.38449888287663}\n",
            "CARVP    0   1\n",
            "row_0         \n",
            "0      116  18\n",
            "1       15  51\n",
            "Erreur de test régression Ridge = 0.165000\n"
          ],
          "name": "stdout"
        }
      ]
    },
    {
      "cell_type": "code",
      "metadata": {
        "colab": {
          "base_uri": "https://localhost:8080/"
        },
        "collapsed": true,
        "id": "P4-jBqBNmD2Z",
        "outputId": "9b00dce6-70ce-408e-b88c-db1bb0be4f14"
      },
      "source": [
        "# Récupération des coefficients\n",
        "vect_coef=np.matrix.transpose(LogitRidgeOpt.coef_)\n",
        "vect_coef=vect_coef.ravel()\n",
        "#Affichage des 25 plus importants\n",
        "coef=pd.Series(abs(vect_coef),index=xApp.columns).sort_values(ascending=False)\n",
        "print(coef)\n"
      ],
      "execution_count": null,
      "outputs": [
        {
          "output_type": "stream",
          "text": [
            "PCSPQ_Psan    2.871593\n",
            "PCSPQ_Pouv    2.326090\n",
            "PCSPQ_Pint    1.650267\n",
            "PCSPQ_Pemp    1.441049\n",
            "SEXEQ_Shom    1.271140\n",
            "XLGNB         1.105607\n",
            "BOPPNL        1.092472\n",
            "KVUNB         1.021237\n",
            "UEMNB         0.944907\n",
            "NPTAG         0.940010\n",
            "QCREDL        0.720986\n",
            "YLVNB         0.643305\n",
            "OPGNBL        0.621539\n",
            "MOYRVL        0.365225\n",
            "ENDETL        0.306875\n",
            "DMVTPL        0.260002\n",
            "FAMIQ_Fseu    0.135144\n",
            "VIENB         0.129144\n",
            "HAVEFL        0.112924\n",
            "ITAVCL        0.095837\n",
            "GAGECL        0.091111\n",
            "XLGMTL        0.070313\n",
            "YLVMTL        0.068435\n",
            "JNBJDL        0.065486\n",
            "ROCNB         0.055387\n",
            "VIEMTL        0.054218\n",
            "TAVEPL        0.040608\n",
            "FACANL        0.036611\n",
            "GAGETL        0.032994\n",
            "GAGEML        0.029304\n",
            "AGER          0.008361\n",
            "RELAT         0.007893\n",
            "LGAGTL        0.007744\n",
            "QSMOY         0.000004\n",
            "dtype: float64\n",
            "Erreur de test régression Ridge = 0.165000\n"
          ],
          "name": "stdout"
        }
      ]
    },
    {
      "cell_type": "code",
      "metadata": {
        "colab": {
          "base_uri": "https://localhost:8080/",
          "height": 297
        },
        "id": "HXoOPPkU0iZV",
        "outputId": "9ac20b2e-4c09-4b84-e03c-699e2a9f18d7"
      },
      "source": [
        "plt.figure(figsize=(7,4))\n",
        "coef.plot(kind='bar')\n",
        "plt.title('Coeffients')\n",
        "plt.tight_layout()\n",
        "plt.show()\n",
        "#On affiche les coefficients \"importants\" pour la régression logistique pénalisée ridge"
      ],
      "execution_count": null,
      "outputs": [
        {
          "output_type": "display_data",
          "data": {
            "image/png": "[encoded data removed]",
            "text/plain": [
              "<Figure size 504x288 with 1 Axes>"
            ]
          },
          "metadata": {
            "tags": [],
            "needs_background": "light"
          }
        }
      ]
    },
    {
      "cell_type": "markdown",
      "metadata": {
        "id": "U80pJtZbmD2Z"
      },
      "source": [
        "**Q** Noter l'erreur de prévision; Comparer avec celle estimée par validation croisée.\n",
        "\n",
        "### Interprétation\n",
        "\n",
        "L'objet logitRidge issu de GridSearchCV ne retient pas les paramètres estimés dans le modèle. Il faut donc ré-estimer avec la valeur optimale du paramètre de pénalisation si l'on souhaite afficher ces coefficients."
      ]
    },
    {
      "cell_type": "code",
      "metadata": {
        "collapsed": true,
        "id": "ABRgBAQqmD2a"
      },
      "source": [
        "RidgeOpt=LogisticRegression(penalty=\"l2\",C=12) # replace by the best parameters !!\n",
        "RidgeOpt=RidgeOpt.fit(xApp, yApp)\n",
        "# Récupération des coefficients\n",
        "vect_coef=np.matrix.transpose(LassoOpt.coef_)\n",
        "vect_coef=vect_coef.ravel()\n",
        "#Affichage des 25 plus importants\n",
        "coef=pd.Series(abs(vect_coef),index=xApp.columns).sort_values(ascending=False)\n",
        "print(coef)"
      ],
      "execution_count": null,
      "outputs": []
    },
    {
      "cell_type": "code",
      "metadata": {
        "collapsed": true,
        "id": "CoMVlCR8mD2a"
      },
      "source": [
        "plt.figure(figsize=(7,4))\n",
        "coef.plot(kind='bar')\n",
        "plt.title('Coeffients')\n",
        "plt.tight_layout()\n",
        "send(plt, 5)\n",
        "plt.show()"
      ],
      "execution_count": null,
      "outputs": []
    }
  ]
}